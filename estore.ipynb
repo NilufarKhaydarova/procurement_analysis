{
 "cells": [
  {
   "cell_type": "code",
   "execution_count": null,
   "metadata": {
    "pycharm": {
     "name": "#%%\n"
    }
   },
   "outputs": [],
   "source": []
  }
 ],
 "metadata": {
  "kernelspec": {
   "display_name": "Python 3.9.12 ('work')",
   "language": "python",
   "name": "python3"
  },
  "language_info": {
   "name": "python",
   "version": "3.9.12"
  },
  "orig_nbformat": 4,
  "vscode": {
   "interpreter": {
    "hash": "ecaff3a71f2cdf6f8dc8ead0fbca7a0251a4dbc67106ac14fa43366415a864a5"
   }
  }
 },
 "nbformat": 4,
 "nbformat_minor": 2
}