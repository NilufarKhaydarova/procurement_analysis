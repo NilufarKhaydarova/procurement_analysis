{
 "cells": [
  {
   "cell_type": "code",
   "execution_count": 26,
   "metadata": {},
   "outputs": [],
   "source": [
    "from process import df"
   ]
  },
  {
   "cell_type": "code",
   "execution_count": 27,
   "metadata": {},
   "outputs": [
    {
     "name": "stdout",
     "output_type": "stream",
     "text": [
      "        id_x                 created_at etp_id method_name      p_avans  \\\n",
      "2  135186381 2022-10-01 08:47:40.937024   UZEX    RESULTAT  11400000000   \n",
      "3  135186388 2022-10-01 08:47:41.018660   UZEX    RESULTAT            0   \n",
      "4  135186399 2022-10-01 08:47:41.144923   UZEX    RESULTAT            0   \n",
      "5  135186405 2022-10-01 08:47:41.220092   UZEX    RESULTAT            0   \n",
      "6  135186429 2022-10-01 08:47:41.521365   UZEX    RESULTAT            0   \n",
      "\n",
      "   avans_day beneficiar        contract_beg        contract_dat  \\\n",
      "2        0.0          - 2022-08-08 05:00:00 2022-08-08 05:00:00   \n",
      "3        0.0          - 2022-07-31 05:00:00 2022-07-31 05:00:00   \n",
      "4        0.0          - 2022-08-03 05:00:00 2022-08-03 05:00:00   \n",
      "5        0.0          - 2022-08-05 05:00:00 2022-08-05 05:00:00   \n",
      "6        0.0          - 2022-08-07 05:00:00 2022-08-07 05:00:00   \n",
      "\n",
      "         contract_end  ...  tovar_edizm  \\\n",
      "2 2022-12-31 05:00:00  ...            0   \n",
      "3 2022-12-31 05:00:00  ...            0   \n",
      "4 2022-12-31 05:00:00  ...            0   \n",
      "5 2022-12-31 05:00:00  ...            0   \n",
      "6 2022-12-31 05:00:00  ...            0   \n",
      "\n",
      "                                          tovar_name  tovar_note  \\\n",
      "2     Услуги по капитальному ремонту нежилого здания        None   \n",
      "3  Стол ученический лабораторный для оборудования...        None   \n",
      "4        Услуга по разработке проектно-сметных работ        None   \n",
      "5        Услуга по разработке проектно-сметных работ        None   \n",
      "6                               Набор офисной мебели        None   \n",
      "\n",
      "    tovar_price   tovar_summa              region_name   month    year  \\\n",
      "2  3.800000e+10  3.800000e+10     Наманганская область  Август  2022.0   \n",
      "3  4.780000e+07  7.170000e+08       Ферганская область    Июль  2022.0   \n",
      "4  8.490000e+08  8.490000e+08            Город Ташкент  Август  2022.0   \n",
      "5  1.300000e+08  1.300000e+08        Бухарская область  Август  2022.0   \n",
      "6  3.450000e+08  3.450000e+08  Кашкадарьинская область  Август  2022.0   \n",
      "\n",
      "  quarter  counts  \n",
      "2     3.0   73447  \n",
      "3     3.0   71041  \n",
      "4     3.0  183539  \n",
      "5     3.0   46083  \n",
      "6     3.0   35518  \n",
      "\n",
      "[5 rows x 59 columns]\n"
     ]
    }
   ],
   "source": [
    "print(df.head())"
   ]
  },
  {
   "cell_type": "code",
   "execution_count": 28,
   "metadata": {},
   "outputs": [
    {
     "name": "stdout",
     "output_type": "stream",
     "text": [
      "<class 'pandas.core.frame.DataFrame'>\n",
      "Int64Index: 797710 entries, 2 to 1013213\n",
      "Data columns (total 59 columns):\n",
      " #   Column              Non-Null Count   Dtype         \n",
      "---  ------              --------------   -----         \n",
      " 0   id_x                797710 non-null  int64         \n",
      " 1   created_at          797710 non-null  datetime64[ns]\n",
      " 2   etp_id              797710 non-null  object        \n",
      " 3   method_name         797710 non-null  object        \n",
      " 4   p_avans             797280 non-null  object        \n",
      " 5   avans_day           797710 non-null  float64       \n",
      " 6   beneficiar          797710 non-null  object        \n",
      " 7   contract_beg        797710 non-null  datetime64[ns]\n",
      " 8   contract_dat        797710 non-null  datetime64[ns]\n",
      " 9   contract_end        797691 non-null  datetime64[ns]\n",
      " 10  contract_id         144518 non-null  float64       \n",
      " 11  contract_num        797710 non-null  object        \n",
      " 12  dvr                 797710 non-null  int64         \n",
      " 13  gen_id              1341 non-null    float64       \n",
      " 14  inn                 797710 non-null  object        \n",
      " 15  lot_date1           352463 non-null  datetime64[ns]\n",
      " 16  lot_date2           352463 non-null  datetime64[ns]\n",
      " 17  lot_id              797710 non-null  int64         \n",
      " 18  ls                  797710 non-null  object        \n",
      " 19  maloy               797710 non-null  object        \n",
      " 20  organ               797710 non-null  object        \n",
      " 21  pnfl                31110 non-null   float64       \n",
      " 22  proc_id             797710 non-null  object        \n",
      " 23  purpose             797710 non-null  object        \n",
      " 24  raschot             352463 non-null  float64       \n",
      " 25  reestr_id           483083 non-null  float64       \n",
      " 26  spok                797710 non-null  int64         \n",
      " 27  sum_nds             542501 non-null  float64       \n",
      " 28  p_summa             797710 non-null  float64       \n",
      " 29  vendor_acc          797708 non-null  object        \n",
      " 30  vendor_bank         797708 non-null  object        \n",
      " 31  vendor_country      3065 non-null    object        \n",
      " 32  vendor_foreign      3065 non-null    object        \n",
      " 33  vendor_info         3065 non-null    object        \n",
      " 34  vendor_inn          797707 non-null  object        \n",
      " 35  vendor_kls          14032 non-null   object        \n",
      " 36  vendor_name         797710 non-null  object        \n",
      " 37  vendor_terr         797710 non-null  int64         \n",
      " 38  version             148371 non-null  float64       \n",
      " 39  request_id          797710 non-null  float64       \n",
      " 40  resultat_method_id  797710 non-null  int64         \n",
      " 41  specifications_id   797710 non-null  int64         \n",
      " 42  id_y                797710 non-null  int64         \n",
      " 43  expense             797710 non-null  float64       \n",
      " 44  fin_year            797710 non-null  float64       \n",
      " 45  kls                 797710 non-null  object        \n",
      " 46  npos                797710 non-null  int64         \n",
      " 47  tovar               797710 non-null  object        \n",
      " 48  tovar_amount        797710 non-null  int64         \n",
      " 49  tovar_edizm         795110 non-null  object        \n",
      " 50  tovar_name          797710 non-null  object        \n",
      " 51  tovar_note          2719 non-null    object        \n",
      " 52  tovar_price         797709 non-null  float64       \n",
      " 53  tovar_summa         797709 non-null  float64       \n",
      " 54  region_name         797710 non-null  object        \n",
      " 55  month               797710 non-null  object        \n",
      " 56  year                797710 non-null  float64       \n",
      " 57  quarter             797710 non-null  float64       \n",
      " 58  counts              797710 non-null  int64         \n",
      "dtypes: datetime64[ns](6), float64(16), int64(11), object(26)\n",
      "memory usage: 365.2+ MB\n"
     ]
    }
   ],
   "source": [
    "df.info()"
   ]
  },
  {
   "cell_type": "code",
   "execution_count": 33,
   "metadata": {},
   "outputs": [],
   "source": [
    "#tovar price type change to int\n",
    "df['tovar_price'] = df['tovar_price'].fillna(0)\n",
    "df['tovar_price'] = df['tovar_price'].astype(int)"
   ]
  },
  {
   "cell_type": "code",
   "execution_count": 34,
   "metadata": {},
   "outputs": [
    {
     "data": {
      "text/plain": [
       "250000          7809\n",
       "500000          7529\n",
       "1000000         7476\n",
       "400000          7340\n",
       "1500000         6671\n",
       "                ... \n",
       "40754700000        1\n",
       "95094400000        1\n",
       "19353298000        1\n",
       "103217589600       1\n",
       "8187700            1\n",
       "Name: tovar_price, Length: 78941, dtype: int64"
      ]
     },
     "execution_count": 34,
     "metadata": {},
     "output_type": "execute_result"
    }
   ],
   "source": [
    "df.tovar_price.value_counts()"
   ]
  },
  {
   "cell_type": "code",
   "execution_count": 35,
   "metadata": {},
   "outputs": [
    {
     "data": {
      "text/plain": [
       "month\n",
       "Август      3.775326e+08\n",
       "Апрель      4.541308e+08\n",
       "Июль        3.972765e+08\n",
       "Июнь        1.819993e+08\n",
       "Май         5.863195e+07\n",
       "Март        3.205345e+08\n",
       "Ноябрь      6.073258e+08\n",
       "Октябрь     4.840906e+08\n",
       "Сентябрь    3.115272e+08\n",
       "Февраль     9.200000e+05\n",
       "Январь      4.263055e+08\n",
       "Name: tovar_price, dtype: float64"
      ]
     },
     "execution_count": 35,
     "metadata": {},
     "output_type": "execute_result"
    }
   ],
   "source": [
    "df[df['tovar_name'] == 'Бензин автомобильный'].groupby('month')['tovar_price'].mean()"
   ]
  },
  {
   "cell_type": "code",
   "execution_count": 39,
   "metadata": {},
   "outputs": [
    {
     "data": {
      "text/plain": [
       "month\n",
       "Август      3.775326e+08\n",
       "Апрель      4.541308e+08\n",
       "Июль        3.972765e+08\n",
       "Июнь        1.819993e+08\n",
       "Май         5.863195e+07\n",
       "Март        3.205345e+08\n",
       "Ноябрь      6.073258e+08\n",
       "Октябрь     4.840906e+08\n",
       "Сентябрь    3.115272e+08\n",
       "Февраль     9.200000e+05\n",
       "Январь      4.263055e+08\n",
       "Name: tovar_price, dtype: float64"
      ]
     },
     "execution_count": 39,
     "metadata": {},
     "output_type": "execute_result"
    }
   ],
   "source": [
    "#average price for Бензин автомобильный by month\n",
    "df[df['tovar_name'] == 'Бензин автомобильный'].groupby('month')['tovar_price'].mean()"
   ]
  },
  {
   "cell_type": "code",
   "execution_count": 36,
   "metadata": {},
   "outputs": [],
   "source": [
    "df.tovar_price = round(df.tovar_price, 2)"
   ]
  },
  {
   "cell_type": "code",
   "execution_count": 37,
   "metadata": {},
   "outputs": [
    {
     "data": {
      "text/plain": [
       "region_name\n",
       "Андижанская область          1.143880e+09\n",
       "Бухарская область            3.399709e+09\n",
       "Город Ташкент                4.218200e+09\n",
       "Джизакская область           2.034979e+09\n",
       "Кашкадарьинская область      3.427781e+09\n",
       "Навоийская область           3.971316e+09\n",
       "Наманганская область         1.697142e+09\n",
       "Республика Каракалпакстан    2.422861e+09\n",
       "Самаркандская область        3.242091e+09\n",
       "Сирдарьинская область        2.059793e+09\n",
       "Сурхандарьинская область     3.312927e+09\n",
       "Ташкентская область          6.049640e+09\n",
       "Ферганская область           1.643113e+09\n",
       "Хорезмская область           2.012121e+09\n",
       "Name: tovar_price, dtype: float64"
      ]
     },
     "execution_count": 37,
     "metadata": {},
     "output_type": "execute_result"
    }
   ],
   "source": [
    "import numpy as np\n",
    "df.groupby('region_name')['tovar_price'].agg(np.mean)"
   ]
  },
  {
   "cell_type": "code",
   "execution_count": null,
   "metadata": {},
   "outputs": [],
   "source": []
  }
 ],
 "metadata": {
  "kernelspec": {
   "display_name": "Python 3.9.12 ('work')",
   "language": "python",
   "name": "python3"
  },
  "language_info": {
   "codemirror_mode": {
    "name": "ipython",
    "version": 3
   },
   "file_extension": ".py",
   "mimetype": "text/x-python",
   "name": "python",
   "nbconvert_exporter": "python",
   "pygments_lexer": "ipython3",
   "version": "3.9.12"
  },
  "orig_nbformat": 4,
  "vscode": {
   "interpreter": {
    "hash": "ecaff3a71f2cdf6f8dc8ead0fbca7a0251a4dbc67106ac14fa43366415a864a5"
   }
  }
 },
 "nbformat": 4,
 "nbformat_minor": 2
}
